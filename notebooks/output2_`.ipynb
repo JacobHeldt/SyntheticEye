Epoch:  0
Got 27 / 32 with accuracy 84.38
Epoch:  0
Got 5670 / 6432 with accuracy 88.15
Epoch:  0
Got 11294 / 12832 with accuracy 88.01
Epoch:  0
Got 16967 / 19232 with accuracy 88.22
Epoch:  0
Got 22608 / 25632 with accuracy 88.20
Epoch:  0
Got 28243 / 32032 with accuracy 88.17
Epoch:  0
Got 33877 / 38432 with accuracy 88.15
Epoch:  0
Got 39555 / 44832 with accuracy 88.23
Epoch:  0
Got 45196 / 51232 with accuracy 88.22
Epoch:  0
Got 50891 / 57632 with accuracy 88.30
Epoch:  0
Got 56480 / 64032 with accuracy 88.21
Epoch:  0
Got 62129 / 70432 with accuracy 88.21
Epoch:  0
Got 67818 / 76832 with accuracy 88.27
Epoch:  0
Got 73497 / 83232 with accuracy 88.30
Epoch:  0
Got 79103 / 89632 with accuracy 88.25
Epoch:  0
Got 84752 / 96032 with accuracy 88.25
Epoch:  0
Got 90415 / 102432 with accuracy 88.27
Epoch:  0
Got 96020 / 108832 with accuracy 88.23
Epoch:  0
Got 101641 / 115232 with accuracy 88.21
Epoch:  0
Got 107319 / 121632 with accuracy 88.23
Epoch:  0
Got 112970 / 128032 with accuracy 88.24
Epoch:  0
Got 118651 / 134432 with accuracy 88.26
Epoch:  0
Got 124347 / 140832 with accuracy 88.29
Epoch:  0
Got 130038 / 147232 with accuracy 88.32
Epoch:  0
Got 135762 / 153632 with accuracy 88.37
Epoch:  0
Got 141447 / 160032 with accuracy 88.39
Epoch:  0
Got 147194 / 166432 with accuracy 88.44
Epoch:  0
Got 152883 / 172832 with accuracy 88.46
Epoch:  0
Got 158550 / 179232 with accuracy 88.46
Epoch:  0
Got 164178 / 185632 with accuracy 88.44
Epoch:  0
Got 169815 / 192032 with accuracy 88.43
Epoch:  0
Got 175545 / 198432 with accuracy 88.47
Epoch:  0
Got 181176 / 204832 with accuracy 88.45
Epoch:  0
Got 186853 / 211232 with accuracy 88.46
Epoch:  0
Got 192525 / 217632 with accuracy 88.46
Epoch:  0
Got 193649 / 218892 with accuracy 88.47
Checking accuracy on Test Data
<class 'torch.utils.data.dataloader.DataLoader'>
Got 11815 / 12876 with accuracy 91.76
Epoch:  1
Got 27 / 32 with accuracy 84.38
Epoch:  1
Got 5741 / 6432 with accuracy 89.26
Epoch:  1
Got 11389 / 12832 with accuracy 88.75
Epoch:  1
Got 17066 / 19232 with accuracy 88.74
Epoch:  1
Got 22798 / 25632 with accuracy 88.94
Epoch:  1
Got 28501 / 32032 with accuracy 88.98
Epoch:  1
Got 34193 / 38432 with accuracy 88.97
Epoch:  1
Got 39885 / 44832 with accuracy 88.97
Epoch:  1
Got 45533 / 51232 with accuracy 88.88
Epoch:  1
Got 51254 / 57632 with accuracy 88.93
Epoch:  1
Got 56905 / 64032 with accuracy 88.87
Epoch:  1
Got 62602 / 70432 with accuracy 88.88
Epoch:  1
Got 68253 / 76832 with accuracy 88.83
Epoch:  1
Got 73937 / 83232 with accuracy 88.83
Epoch:  1
Got 79582 / 89632 with accuracy 88.79
Epoch:  1
Got 85296 / 96032 with accuracy 88.82
Epoch:  1
Got 91040 / 102432 with accuracy 88.88
Epoch:  1
Got 96766 / 108832 with accuracy 88.91
Epoch:  1
Got 102461 / 115232 with accuracy 88.92
Epoch:  1
Got 108207 / 121632 with accuracy 88.96
Epoch:  1
Got 113914 / 128032 with accuracy 88.97
Epoch:  1
Got 119586 / 134432 with accuracy 88.96
Epoch:  1
Got 125296 / 140832 with accuracy 88.97
Epoch:  1
Got 130988 / 147232 with accuracy 88.97
Epoch:  1
Got 136732 / 153632 with accuracy 89.00
Epoch:  1
Got 142439 / 160032 with accuracy 89.01
Epoch:  1
Got 148155 / 166432 with accuracy 89.02
Epoch:  1
Got 153870 / 172832 with accuracy 89.03
Epoch:  1
Got 159629 / 179232 with accuracy 89.06
Epoch:  1
Got 165359 / 185632 with accuracy 89.08
Epoch:  1
Got 171089 / 192032 with accuracy 89.09
Epoch:  1
Got 176783 / 198432 with accuracy 89.09
Epoch:  1
Got 182505 / 204832 with accuracy 89.10
Epoch:  1
Got 188222 / 211232 with accuracy 89.11
Epoch:  1
Got 193935 / 217632 with accuracy 89.11
Epoch:  1
Got 195060 / 218892 with accuracy 89.11
Checking accuracy on Test Data
<class 'torch.utils.data.dataloader.DataLoader'>
Got 11926 / 12876 with accuracy 92.62
Epoch:  2
Got 27 / 32 with accuracy 84.38
Epoch:  2
Got 5739 / 6432 with accuracy 89.23
Epoch:  2
Got 11474 / 12832 with accuracy 89.42
Epoch:  2
Got 17211 / 19232 with accuracy 89.49
Epoch:  2
Got 22937 / 25632 with accuracy 89.49
Epoch:  2
Got 28685 / 32032 with accuracy 89.55
Epoch:  2
Got 34432 / 38432 with accuracy 89.59
Epoch:  2
Got 40203 / 44832 with accuracy 89.67
Epoch:  2
Got 45946 / 51232 with accuracy 89.68
Epoch:  2
Got 51731 / 57632 with accuracy 89.76
Epoch:  2
Got 57469 / 64032 with accuracy 89.75
Epoch:  2
Got 63206 / 70432 with accuracy 89.74
Epoch:  2
Got 68961 / 76832 with accuracy 89.76
Epoch:  2
Got 74700 / 83232 with accuracy 89.75
Epoch:  2
Got 80389 / 89632 with accuracy 89.69
Epoch:  2
Got 86083 / 96032 with accuracy 89.64
Epoch:  2
Got 91842 / 102432 with accuracy 89.66
Epoch:  2
Got 97575 / 108832 with accuracy 89.66
Epoch:  2
Got 103323 / 115232 with accuracy 89.67
Epoch:  2
Got 109049 / 121632 with accuracy 89.65
Epoch:  2
Got 114753 / 128032 with accuracy 89.63
Epoch:  2
Got 120504 / 134432 with accuracy 89.64
Epoch:  2
Got 126304 / 140832 with accuracy 89.68
Epoch:  2
Got 132030 / 147232 with accuracy 89.67
Epoch:  2
Got 137753 / 153632 with accuracy 89.66
Epoch:  2
Got 143499 / 160032 with accuracy 89.67
Epoch:  2
Got 149272 / 166432 with accuracy 89.69
Epoch:  2
Got 155062 / 172832 with accuracy 89.72
Epoch:  2
Got 160813 / 179232 with accuracy 89.72
Epoch:  2
Got 166563 / 185632 with accuracy 89.73
Epoch:  2
Got 172333 / 192032 with accuracy 89.74
Epoch:  2
Got 178126 / 198432 with accuracy 89.77
Epoch:  2
Got 183901 / 204832 with accuracy 89.78
Epoch:  2
Got 189669 / 211232 with accuracy 89.79
Epoch:  2
Got 195428 / 217632 with accuracy 89.80
Epoch:  2
Got 196562 / 218892 with accuracy 89.80
Checking accuracy on Test Data
<class 'torch.utils.data.dataloader.DataLoader'>
Got 11928 / 12876 with accuracy 92.64
Epoch:  3
Got 28 / 32 with accuracy 87.50
Epoch:  3
Got 5777 / 6432 with accuracy 89.82
Epoch:  3
Got 11583 / 12832 with accuracy 90.27
Epoch:  3
Got 17348 / 19232 with accuracy 90.20
Epoch:  3
Got 23124 / 25632 with accuracy 90.22
Epoch:  3
Got 28863 / 32032 with accuracy 90.11
Epoch:  3
Got 34638 / 38432 with accuracy 90.13
Epoch:  3
Got 40411 / 44832 with accuracy 90.14
Epoch:  3
Got 46170 / 51232 with accuracy 90.12
Epoch:  3
Got 51918 / 57632 with accuracy 90.09
Epoch:  3
Got 57674 / 64032 with accuracy 90.07
Epoch:  3
Got 63446 / 70432 with accuracy 90.08
Epoch:  3
Got 69217 / 76832 with accuracy 90.09
Epoch:  3
Got 74952 / 83232 with accuracy 90.05
Epoch:  3
Got 80736 / 89632 with accuracy 90.07
Epoch:  3
Got 86517 / 96032 with accuracy 90.09
Epoch:  3
Got 92282 / 102432 with accuracy 90.09
Epoch:  3
Got 98058 / 108832 with accuracy 90.10
Epoch:  3
Got 103855 / 115232 with accuracy 90.13
Epoch:  3
Got 109626 / 121632 with accuracy 90.13
Epoch:  3
Got 115396 / 128032 with accuracy 90.13
Epoch:  3
Got 121157 / 134432 with accuracy 90.13
Epoch:  3
Got 126936 / 140832 with accuracy 90.13
Epoch:  3
Got 132711 / 147232 with accuracy 90.14
Epoch:  3
Got 138493 / 153632 with accuracy 90.15
Epoch:  3
Got 144232 / 160032 with accuracy 90.13
Epoch:  3
Got 149980 / 166432 with accuracy 90.11
Epoch:  3
Got 155762 / 172832 with accuracy 90.12
Epoch:  3
Got 161556 / 179232 with accuracy 90.14
Epoch:  3
Got 167315 / 185632 with accuracy 90.13
Epoch:  3
Got 173106 / 192032 with accuracy 90.14
Epoch:  3
Got 178872 / 198432 with accuracy 90.14
Epoch:  3
Got 184709 / 204832 with accuracy 90.18
Epoch:  3
Got 190509 / 211232 with accuracy 90.19
Epoch:  3
Got 196290 / 217632 with accuracy 90.19
Epoch:  3
Got 197440 / 218892 with accuracy 90.20
Checking accuracy on Test Data
<class 'torch.utils.data.dataloader.DataLoader'>
Got 11985 / 12876 with accuracy 93.08
Epoch:  4
Got 29 / 32 with accuracy 90.62
Epoch:  4
Got 5846 / 6432 with accuracy 90.89
Epoch:  4
Got 11642 / 12832 with accuracy 90.73
Epoch:  4
Got 17430 / 19232 with accuracy 90.63
Epoch:  4
Got 23234 / 25632 with accuracy 90.64
Epoch:  4
Got 29039 / 32032 with accuracy 90.66
Epoch:  4
Got 34834 / 38432 with accuracy 90.64
Epoch:  4
Got 40652 / 44832 with accuracy 90.68
Epoch:  4
Got 46438 / 51232 with accuracy 90.64
Epoch:  4
Got 52246 / 57632 with accuracy 90.65
Epoch:  4
Got 58062 / 64032 with accuracy 90.68
Epoch:  4
Got 63863 / 70432 with accuracy 90.67
Epoch:  4
Got 69675 / 76832 with accuracy 90.68
Epoch:  4
Got 75496 / 83232 with accuracy 90.71
Epoch:  4
Got 81285 / 89632 with accuracy 90.69
Epoch:  4
Got 87050 / 96032 with accuracy 90.65
Epoch:  4
Got 92842 / 102432 with accuracy 90.64
Epoch:  4
Got 98646 / 108832 with accuracy 90.64
Epoch:  4
Got 104455 / 115232 with accuracy 90.65
Epoch:  4
Got 110302 / 121632 with accuracy 90.69
Epoch:  4
Got 116113 / 128032 with accuracy 90.69
Epoch:  4
Got 121931 / 134432 with accuracy 90.70
Epoch:  4
Got 127721 / 140832 with accuracy 90.69
Epoch:  4
Got 133536 / 147232 with accuracy 90.70
Epoch:  4
Got 139332 / 153632 with accuracy 90.69
Epoch:  4
Got 145112 / 160032 with accuracy 90.68
Epoch:  4
Got 150900 / 166432 with accuracy 90.67
Epoch:  4
Got 156744 / 172832 with accuracy 90.69
Epoch:  4
Got 162572 / 179232 with accuracy 90.70
Epoch:  4
Got 168395 / 185632 with accuracy 90.71
Epoch:  4
Got 174206 / 192032 with accuracy 90.72
Epoch:  4
Got 180016 / 198432 with accuracy 90.72
Epoch:  4
Got 185842 / 204832 with accuracy 90.73
Epoch:  4
Got 191695 / 211232 with accuracy 90.75
Epoch:  4
Got 197517 / 217632 with accuracy 90.76
Epoch:  4
Got 198659 / 218892 with accuracy 90.76
Checking accuracy on Test Data
<class 'torch.utils.data.dataloader.DataLoader'>
Got 12034 / 12876 with accuracy 93.46
Epoch:  5
Got 30 / 32 with accuracy 93.75
Epoch:  5
Got 5862 / 6432 with accuracy 91.14
Epoch:  5
Got 11638 / 12832 with accuracy 90.70
Epoch:  5
Got 17415 / 19232 with accuracy 90.55
Epoch:  5
Got 23254 / 25632 with accuracy 90.72
Epoch:  5
Got 29127 / 32032 with accuracy 90.93
Epoch:  5
Got 34997 / 38432 with accuracy 91.06
Epoch:  5
Got 40851 / 44832 with accuracy 91.12
Epoch:  5
Got 46659 / 51232 with accuracy 91.07
Epoch:  5
Got 52501 / 57632 with accuracy 91.10
Epoch:  5
Got 58365 / 64032 with accuracy 91.15
Epoch:  5
Got 64228 / 70432 with accuracy 91.19
Epoch:  5
Got 70092 / 76832 with accuracy 91.23
Epoch:  5
Got 75923 / 83232 with accuracy 91.22
Epoch:  5
Got 81764 / 89632 with accuracy 91.22
Epoch:  5
Got 87549 / 96032 with accuracy 91.17
Epoch:  5
Got 93419 / 102432 with accuracy 91.20
Epoch:  5
Got 99242 / 108832 with accuracy 91.19
Epoch:  5
Got 105070 / 115232 with accuracy 91.18
Epoch:  5
Got 110882 / 121632 with accuracy 91.16
Epoch:  5
Got 116740 / 128032 with accuracy 91.18
Epoch:  5
Got 122607 / 134432 with accuracy 91.20
Epoch:  5
Got 128474 / 140832 with accuracy 91.23
Epoch:  5
Got 134310 / 147232 with accuracy 91.22
Epoch:  5
Got 140183 / 153632 with accuracy 91.25
Epoch:  5
Got 146018 / 160032 with accuracy 91.24
Epoch:  5
Got 151845 / 166432 with accuracy 91.24
Epoch:  5
Got 157659 / 172832 with accuracy 91.22
Epoch:  5
Got 163513 / 179232 with accuracy 91.23
Epoch:  5
Got 169367 / 185632 with accuracy 91.24
Epoch:  5
Got 175227 / 192032 with accuracy 91.25
Epoch:  5
Got 181051 / 198432 with accuracy 91.24
Epoch:  5
Got 186876 / 204832 with accuracy 91.23
Epoch:  5
Got 192719 / 211232 with accuracy 91.24
Epoch:  5
Got 198546 / 217632 with accuracy 91.23
Epoch:  5
Got 199689 / 218892 with accuracy 91.23
Checking accuracy on Test Data
<class 'torch.utils.data.dataloader.DataLoader'>
Got 11799 / 12876 with accuracy 91.64
Epoch:  6
Got 29 / 32 with accuracy 90.62
Epoch:  6
Got 5873 / 6432 with accuracy 91.31
Epoch:  6
Got 11740 / 12832 with accuracy 91.49
Epoch:  6
Got 17582 / 19232 with accuracy 91.42
Epoch:  6
Got 23425 / 25632 with accuracy 91.39
Epoch:  6
Got 29277 / 32032 with accuracy 91.40
Epoch:  6
Got 35118 / 38432 with accuracy 91.38
Epoch:  6
Got 40982 / 44832 with accuracy 91.41
Epoch:  6
Got 46834 / 51232 with accuracy 91.42
Epoch:  6
Got 52696 / 57632 with accuracy 91.44
Epoch:  6
Got 58543 / 64032 with accuracy 91.43
Epoch:  6
Got 64407 / 70432 with accuracy 91.45
Epoch:  6
Got 70250 / 76832 with accuracy 91.43
Epoch:  6
Got 76122 / 83232 with accuracy 91.46
Epoch:  6
Got 81985 / 89632 with accuracy 91.47
Epoch:  6
Got 87840 / 96032 with accuracy 91.47
Epoch:  6
Got 93722 / 102432 with accuracy 91.50
Epoch:  6
Got 99551 / 108832 with accuracy 91.47
Epoch:  6
Got 105446 / 115232 with accuracy 91.51
Epoch:  6
Got 111309 / 121632 with accuracy 91.51
Epoch:  6
Got 117133 / 128032 with accuracy 91.49
Epoch:  6
Got 122968 / 134432 with accuracy 91.47
Epoch:  6
Got 128882 / 140832 with accuracy 91.51
Epoch:  6
Got 134750 / 147232 with accuracy 91.52
Epoch:  6
Got 140628 / 153632 with accuracy 91.54
Epoch:  6
Got 146474 / 160032 with accuracy 91.53
Epoch:  6
Got 152360 / 166432 with accuracy 91.54
Epoch:  6
Got 158194 / 172832 with accuracy 91.53
Epoch:  6
Got 164014 / 179232 with accuracy 91.51
Epoch:  6
Got 169850 / 185632 with accuracy 91.50
Epoch:  6
Got 175729 / 192032 with accuracy 91.51
Epoch:  6
Got 181554 / 198432 with accuracy 91.49
Epoch:  6
Got 187399 / 204832 with accuracy 91.49
Epoch:  6
Got 193281 / 211232 with accuracy 91.50
Epoch:  6
Got 199105 / 217632 with accuracy 91.49
Epoch:  6
Got 200260 / 218892 with accuracy 91.49
Checking accuracy on Test Data
<class 'torch.utils.data.dataloader.DataLoader'>
Got 11805 / 12876 with accuracy 91.68
Epoch:  7
Got 28 / 32 with accuracy 87.50
Epoch:  7
Got 5881 / 6432 with accuracy 91.43
Epoch:  7
Got 11755 / 12832 with accuracy 91.61
Epoch:  7
Got 17638 / 19232 with accuracy 91.71
Epoch:  7
Got 23465 / 25632 with accuracy 91.55
Epoch:  7
Got 29352 / 32032 with accuracy 91.63
Epoch:  7
Got 35276 / 38432 with accuracy 91.79
Epoch:  7
Got 41158 / 44832 with accuracy 91.80
Epoch:  7
Got 47032 / 51232 with accuracy 91.80
Epoch:  7
Got 52900 / 57632 with accuracy 91.79
Epoch:  7
Got 58785 / 64032 with accuracy 91.81
Epoch:  7
Got 64679 / 70432 with accuracy 91.83
Epoch:  7
Got 70550 / 76832 with accuracy 91.82
Epoch:  7
Got 76430 / 83232 with accuracy 91.83
Epoch:  7
Got 82338 / 89632 with accuracy 91.86
