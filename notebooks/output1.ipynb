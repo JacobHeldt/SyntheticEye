Epoch:  0
Got 18 / 32 with accuracy 56.25
Epoch:  0
Got 3463 / 6432 with accuracy 53.84
Epoch:  0
Got 7220 / 12832 with accuracy 56.27
Epoch:  0
Got 11098 / 19232 with accuracy 57.71
Epoch:  0
Got 15172 / 25632 with accuracy 59.19
Epoch:  0
Got 19224 / 32032 with accuracy 60.01
Epoch:  0
Got 23347 / 38432 with accuracy 60.75
Epoch:  0
Got 27520 / 44832 with accuracy 61.38
Epoch:  0
Got 31809 / 51232 with accuracy 62.09
Epoch:  0
Got 36071 / 57632 with accuracy 62.59
Epoch:  0
Got 40347 / 64032 with accuracy 63.01
Epoch:  0
Got 44691 / 70432 with accuracy 63.45
Epoch:  0
Got 49143 / 76832 with accuracy 63.96
Epoch:  0
Got 53640 / 83232 with accuracy 64.45
Epoch:  0
Got 58052 / 89632 with accuracy 64.77
Epoch:  0
Got 62454 / 96032 with accuracy 65.03
Epoch:  0
Got 67058 / 102432 with accuracy 65.47
Epoch:  0
Got 71609 / 108832 with accuracy 65.80
Epoch:  0
Got 76202 / 115232 with accuracy 66.13
Epoch:  0
Got 80816 / 121632 with accuracy 66.44
Epoch:  0
Got 85369 / 128032 with accuracy 66.68
Epoch:  0
Got 89999 / 134432 with accuracy 66.95
Epoch:  0
Got 94653 / 140832 with accuracy 67.21
Epoch:  0
Got 99390 / 147232 with accuracy 67.51
Epoch:  0
Got 104043 / 153632 with accuracy 67.72
Epoch:  0
Got 108726 / 160032 with accuracy 67.94
Epoch:  0
Got 113450 / 166432 with accuracy 68.17
Epoch:  0
Got 118183 / 172832 with accuracy 68.38
Epoch:  0
Got 122938 / 179232 with accuracy 68.59
Epoch:  0
Got 127711 / 185632 with accuracy 68.80
Epoch:  0
Got 132497 / 192032 with accuracy 69.00
Epoch:  0
Got 137222 / 198432 with accuracy 69.15
Epoch:  0
Got 142002 / 204832 with accuracy 69.33
Epoch:  0
Got 146798 / 211232 with accuracy 69.50
Epoch:  0
Got 147846 / 212673 with accuracy 69.52
Checking accuracy on Test Data
<class 'torch.utils.data.dataloader.DataLoader'>
Got 9781 / 12510 with accuracy 78.19
Epoch:  1
Got 22 / 32 with accuracy 68.75
Epoch:  1
Got 4784 / 6432 with accuracy 74.38
Epoch:  1
Got 9576 / 12832 with accuracy 74.63
Epoch:  1
Got 14457 / 19232 with accuracy 75.17
Epoch:  1
Got 19317 / 25632 with accuracy 75.36
Epoch:  1
Got 24140 / 32032 with accuracy 75.36
Epoch:  1
Got 28999 / 38432 with accuracy 75.46
Epoch:  1
Got 33935 / 44832 with accuracy 75.69
Epoch:  1
Got 38814 / 51232 with accuracy 75.76
Epoch:  1
Got 43734 / 57632 with accuracy 75.88
Epoch:  1
Got 48637 / 64032 with accuracy 75.96
Epoch:  1
Got 53621 / 70432 with accuracy 76.13
Epoch:  1
Got 58535 / 76832 with accuracy 76.19
Epoch:  1
Got 63480 / 83232 with accuracy 76.27
Epoch:  1
Got 68433 / 89632 with accuracy 76.35
Epoch:  1
Got 73351 / 96032 with accuracy 76.38
Epoch:  1
Got 78281 / 102432 with accuracy 76.42
Epoch:  1
Got 83266 / 108832 with accuracy 76.51
Epoch:  1
Got 88213 / 115232 with accuracy 76.55
Epoch:  1
Got 93153 / 121632 with accuracy 76.59
Epoch:  1
Got 98176 / 128032 with accuracy 76.68
Epoch:  1
Got 103164 / 134432 with accuracy 76.74
Epoch:  1
Got 108154 / 140832 with accuracy 76.80
Epoch:  1
Got 113202 / 147232 with accuracy 76.89
Epoch:  1
Got 118178 / 153632 with accuracy 76.92
Epoch:  1
Got 123230 / 160032 with accuracy 77.00
Epoch:  1
Got 128197 / 166432 with accuracy 77.03
Epoch:  1
Got 133254 / 172832 with accuracy 77.10
Epoch:  1
Got 138288 / 179232 with accuracy 77.16
Epoch:  1
Got 143340 / 185632 with accuracy 77.22
Epoch:  1
Got 148345 / 192032 with accuracy 77.25
Epoch:  1
Got 153377 / 198432 with accuracy 77.29
Epoch:  1
Got 158398 / 204832 with accuracy 77.33
Epoch:  1
Got 163417 / 211232 with accuracy 77.36
Epoch:  1
Got 164581 / 212673 with accuracy 77.39
Checking accuracy on Test Data
<class 'torch.utils.data.dataloader.DataLoader'>
Got 10050 / 12510 with accuracy 80.34
Epoch:  2
Got 26 / 32 with accuracy 81.25
Epoch:  2
Got 5091 / 6432 with accuracy 79.15
Epoch:  2
Got 10213 / 12832 with accuracy 79.59
Epoch:  2
Got 15310 / 19232 with accuracy 79.61
Epoch:  2
Got 20439 / 25632 with accuracy 79.74
Epoch:  2
Got 25593 / 32032 with accuracy 79.90
Epoch:  2
Got 30690 / 38432 with accuracy 79.86
Epoch:  2
Got 35812 / 44832 with accuracy 79.88
Epoch:  2
Got 40938 / 51232 with accuracy 79.91
Epoch:  2
Got 46081 / 57632 with accuracy 79.96
Epoch:  2
Got 51219 / 64032 with accuracy 79.99
Epoch:  2
Got 56336 / 70432 with accuracy 79.99
Epoch:  2
Got 61444 / 76832 with accuracy 79.97
Epoch:  2
Got 66605 / 83232 with accuracy 80.02
Epoch:  2
Got 71761 / 89632 with accuracy 80.06
Epoch:  2
Got 76918 / 96032 with accuracy 80.10
Epoch:  2
Got 82111 / 102432 with accuracy 80.16
Epoch:  2
Got 87281 / 108832 with accuracy 80.20
Epoch:  2
Got 92405 / 115232 with accuracy 80.19
Epoch:  2
Got 97542 / 121632 with accuracy 80.19
Epoch:  2
Got 102707 / 128032 with accuracy 80.22
Epoch:  2
Got 107861 / 134432 with accuracy 80.23
Epoch:  2
Got 113036 / 140832 with accuracy 80.26
Epoch:  2
Got 118184 / 147232 with accuracy 80.27
Epoch:  2
Got 123389 / 153632 with accuracy 80.31
Epoch:  2
Got 128557 / 160032 with accuracy 80.33
Epoch:  2
Got 133732 / 166432 with accuracy 80.35
Epoch:  2
Got 138900 / 172832 with accuracy 80.37
Epoch:  2
Got 144147 / 179232 with accuracy 80.42
Epoch:  2
Got 149375 / 185632 with accuracy 80.47
Epoch:  2
Got 154575 / 192032 with accuracy 80.49
Epoch:  2
Got 159844 / 198432 with accuracy 80.55
Epoch:  2
Got 165045 / 204832 with accuracy 80.58
Epoch:  2
Got 170210 / 211232 with accuracy 80.58
Epoch:  2
Got 171386 / 212673 with accuracy 80.59
Checking accuracy on Test Data
<class 'torch.utils.data.dataloader.DataLoader'>
Got 10306 / 12510 with accuracy 82.38
Epoch:  3
Got 25 / 32 with accuracy 78.12
Epoch:  3
Got 5266 / 6432 with accuracy 81.87
Epoch:  3
Got 10512 / 12832 with accuracy 81.92
Epoch:  3
Got 15767 / 19232 with accuracy 81.98
Epoch:  3
Got 21010 / 25632 with accuracy 81.97
Epoch:  3
Got 26278 / 32032 with accuracy 82.04
Epoch:  3
Got 31552 / 38432 with accuracy 82.10
Epoch:  3
Got 36827 / 44832 with accuracy 82.14
Epoch:  3
Got 42049 / 51232 with accuracy 82.08
Epoch:  3
Got 47252 / 57632 with accuracy 81.99
Epoch:  3
Got 52499 / 64032 with accuracy 81.99
Epoch:  3
Got 57749 / 70432 with accuracy 81.99
Epoch:  3
Got 63009 / 76832 with accuracy 82.01
Epoch:  3
Got 68305 / 83232 with accuracy 82.07
Epoch:  3
Got 73463 / 89632 with accuracy 81.96
Epoch:  3
Got 78731 / 96032 with accuracy 81.98
Epoch:  3
Got 84022 / 102432 with accuracy 82.03
Epoch:  3
Got 89239 / 108832 with accuracy 82.00
Epoch:  3
Got 94507 / 115232 with accuracy 82.01
Epoch:  3
Got 99785 / 121632 with accuracy 82.04
Epoch:  3
Got 105114 / 128032 with accuracy 82.10
Epoch:  3
Got 110390 / 134432 with accuracy 82.12
Epoch:  3
Got 115686 / 140832 with accuracy 82.14
Epoch:  3
Got 120941 / 147232 with accuracy 82.14
Epoch:  3
Got 126273 / 153632 with accuracy 82.19
Epoch:  3
Got 131611 / 160032 with accuracy 82.24
Epoch:  3
Got 136955 / 166432 with accuracy 82.29
Epoch:  3
Got 142293 / 172832 with accuracy 82.33
Epoch:  3
Got 147555 / 179232 with accuracy 82.33
Epoch:  3
Got 152852 / 185632 with accuracy 82.34
Epoch:  3
Got 158229 / 192032 with accuracy 82.40
Epoch:  3
Got 163556 / 198432 with accuracy 82.42
Epoch:  3
Got 168905 / 204832 with accuracy 82.46
Epoch:  3
Got 174277 / 211232 with accuracy 82.51
Epoch:  3
Got 175496 / 212673 with accuracy 82.52
Checking accuracy on Test Data
<class 'torch.utils.data.dataloader.DataLoader'>
Got 10619 / 12510 with accuracy 84.88
Epoch:  4
Got 24 / 32 with accuracy 75.00
Epoch:  4
Got 5308 / 6432 with accuracy 82.52
Epoch:  4
Got 10663 / 12832 with accuracy 83.10
Epoch:  4
Got 15986 / 19232 with accuracy 83.12
Epoch:  4
Got 21382 / 25632 with accuracy 83.42
Epoch:  4
Got 26706 / 32032 with accuracy 83.37
Epoch:  4
Got 32030 / 38432 with accuracy 83.34
Epoch:  4
Got 37364 / 44832 with accuracy 83.34
Epoch:  4
Got 42767 / 51232 with accuracy 83.48
Epoch:  4
Got 48137 / 57632 with accuracy 83.52
Epoch:  4
Got 53558 / 64032 with accuracy 83.64
Epoch:  4
Got 58980 / 70432 with accuracy 83.74
Epoch:  4
Got 64381 / 76832 with accuracy 83.79
Epoch:  4
Got 69723 / 83232 with accuracy 83.77
Epoch:  4
Got 75191 / 89632 with accuracy 83.89
Epoch:  4
Got 80613 / 96032 with accuracy 83.94
Epoch:  4
Got 86031 / 102432 with accuracy 83.99
Epoch:  4
Got 91372 / 108832 with accuracy 83.96
Epoch:  4
Got 96741 / 115232 with accuracy 83.95
Epoch:  4
Got 102120 / 121632 with accuracy 83.96
Epoch:  4
Got 107501 / 128032 with accuracy 83.96
Epoch:  4
Got 112909 / 134432 with accuracy 83.99
Epoch:  4
Got 118298 / 140832 with accuracy 84.00
Epoch:  4
Got 123708 / 147232 with accuracy 84.02
Epoch:  4
Got 129117 / 153632 with accuracy 84.04
Epoch:  4
Got 134553 / 160032 with accuracy 84.08
Epoch:  4
Got 139969 / 166432 with accuracy 84.10
Epoch:  4
Got 145387 / 172832 with accuracy 84.12
Epoch:  4
Got 150815 / 179232 with accuracy 84.15
Epoch:  4
Got 156246 / 185632 with accuracy 84.17
Epoch:  4
Got 161665 / 192032 with accuracy 84.19
Epoch:  4
Got 167077 / 198432 with accuracy 84.20
Epoch:  4
Got 172436 / 204832 with accuracy 84.18
Epoch:  4
Got 177846 / 211232 with accuracy 84.19
Epoch:  4
Got 179050 / 212673 with accuracy 84.19
Checking accuracy on Test Data
<class 'torch.utils.data.dataloader.DataLoader'>
Got 10715 / 12510 with accuracy 85.65
Epoch:  5
Got 26 / 32 with accuracy 81.25
Epoch:  5
Got 5446 / 6432 with accuracy 84.67
Epoch:  5
Got 10893 / 12832 with accuracy 84.89
Epoch:  5
Got 16291 / 19232 with accuracy 84.71
Epoch:  5
Got 21741 / 25632 with accuracy 84.82
Epoch:  5
Got 27214 / 32032 with accuracy 84.96
Epoch:  5
Got 32651 / 38432 with accuracy 84.96
Epoch:  5
Got 38162 / 44832 with accuracy 85.12
Epoch:  5
Got 43612 / 51232 with accuracy 85.13
Epoch:  5
Got 49044 / 57632 with accuracy 85.10
Epoch:  5
Got 54510 / 64032 with accuracy 85.13
Epoch:  5
Got 59970 / 70432 with accuracy 85.15
Epoch:  5
Got 65442 / 76832 with accuracy 85.18
Epoch:  5
Got 70900 / 83232 with accuracy 85.18
Epoch:  5
Got 76308 / 89632 with accuracy 85.13
Epoch:  5
Got 81757 / 96032 with accuracy 85.14
Epoch:  5
Got 87264 / 102432 with accuracy 85.19
Epoch:  5
Got 92748 / 108832 with accuracy 85.22
Epoch:  5
Got 98221 / 115232 with accuracy 85.24
Epoch:  5
Got 103660 / 121632 with accuracy 85.22
Epoch:  5
Got 109145 / 128032 with accuracy 85.25
Epoch:  5
Got 114602 / 134432 with accuracy 85.25
Epoch:  5
Got 120051 / 140832 with accuracy 85.24
Epoch:  5
Got 125568 / 147232 with accuracy 85.29
Epoch:  5
Got 131035 / 153632 with accuracy 85.29
Epoch:  5
Got 136546 / 160032 with accuracy 85.32
Epoch:  5
Got 142089 / 166432 with accuracy 85.37
Epoch:  5
Got 147565 / 172832 with accuracy 85.38
Epoch:  5
Got 153047 / 179232 with accuracy 85.39
Epoch:  5
Got 158491 / 185632 with accuracy 85.38
Epoch:  5
Got 163956 / 192032 with accuracy 85.38
Epoch:  5
Got 169475 / 198432 with accuracy 85.41
Epoch:  5
Got 174951 / 204832 with accuracy 85.41
Epoch:  5
Got 180433 / 211232 with accuracy 85.42
Epoch:  5
Got 181685 / 212673 with accuracy 85.43
Checking accuracy on Test Data
<class 'torch.utils.data.dataloader.DataLoader'>
Got 11054 / 12510 with accuracy 88.36
Epoch:  6
Got 25 / 32 with accuracy 78.12
Epoch:  6
Got 5519 / 6432 with accuracy 85.81
Epoch:  6
Got 11059 / 12832 with accuracy 86.18
Epoch:  6
Got 16557 / 19232 with accuracy 86.09
Epoch:  6
Got 22028 / 25632 with accuracy 85.94
Epoch:  6
Got 27551 / 32032 with accuracy 86.01
Epoch:  6
Got 33062 / 38432 with accuracy 86.03
Epoch:  6
Got 38552 / 44832 with accuracy 85.99
Epoch:  6
Got 44090 / 51232 with accuracy 86.06
Epoch:  6
Got 49596 / 57632 with accuracy 86.06
Epoch:  6
Got 55082 / 64032 with accuracy 86.02
Epoch:  6
Got 60609 / 70432 with accuracy 86.05
Epoch:  6
Got 66119 / 76832 with accuracy 86.06
Epoch:  6
Got 71661 / 83232 with accuracy 86.10
Epoch:  6
Got 77177 / 89632 with accuracy 86.10
Epoch:  6
Got 82691 / 96032 with accuracy 86.11
Epoch:  6
Got 88178 / 102432 with accuracy 86.08
Epoch:  6
Got 93681 / 108832 with accuracy 86.08
Epoch:  6
Got 99206 / 115232 with accuracy 86.09
Epoch:  6
Got 104735 / 121632 with accuracy 86.11
Epoch:  6
Got 110271 / 128032 with accuracy 86.13
Epoch:  6
Got 115839 / 134432 with accuracy 86.17
Epoch:  6
Got 121397 / 140832 with accuracy 86.20
Epoch:  6
Got 126896 / 147232 with accuracy 86.19
Epoch:  6
Got 132367 / 153632 with accuracy 86.16
Epoch:  6
Got 137941 / 160032 with accuracy 86.20
Epoch:  6
Got 143435 / 166432 with accuracy 86.18
Epoch:  6
Got 149003 / 172832 with accuracy 86.21
Epoch:  6
Got 154542 / 179232 with accuracy 86.22
Epoch:  6
Got 160067 / 185632 with accuracy 86.23
Epoch:  6
Got 165624 / 192032 with accuracy 86.25
Epoch:  6
Got 171223 / 198432 with accuracy 86.29
Epoch:  6
Got 176833 / 204832 with accuracy 86.33
Epoch:  6
Got 182385 / 211232 with accuracy 86.34
Epoch:  6
Got 183645 / 212673 with accuracy 86.35
Checking accuracy on Test Data
<class 'torch.utils.data.dataloader.DataLoader'>
Got 11141 / 12510 with accuracy 89.06
Epoch:  7
Got 27 / 32 with accuracy 84.38
Epoch:  7
Got 5562 / 6432 with accuracy 86.47
Epoch:  7
Got 11146 / 12832 with accuracy 86.86
Epoch:  7
Got 16715 / 19232 with accuracy 86.91
Epoch:  7
Got 22246 / 25632 with accuracy 86.79
Epoch:  7
Got 27774 / 32032 with accuracy 86.71
Epoch:  7
Got 33271 / 38432 with accuracy 86.57
Epoch:  7
Got 38870 / 44832 with accuracy 86.70
Epoch:  7
Got 44429 / 51232 with accuracy 86.72
Epoch:  7
Got 50028 / 57632 with accuracy 86.81
Epoch:  7
Got 55609 / 64032 with accuracy 86.85
Epoch:  7
Got 61204 / 70432 with accuracy 86.90
Epoch:  7
Got 66818 / 76832 with accuracy 86.97
Epoch:  7
Got 72440 / 83232 with accuracy 87.03
Epoch:  7
Got 77982 / 89632 with accuracy 87.00
Epoch:  7
Got 83548 / 96032 with accuracy 87.00
Epoch:  7
Got 89149 / 102432 with accuracy 87.03
Epoch:  7
Got 94723 / 108832 with accuracy 87.04
Epoch:  7
Got 100312 / 115232 with accuracy 87.05
Epoch:  7
Got 105909 / 121632 with accuracy 87.07
Epoch:  7
Got 111551 / 128032 with accuracy 87.13
Epoch:  7
Got 117138 / 134432 with accuracy 87.14
Epoch:  7
Got 122739 / 140832 with accuracy 87.15
Epoch:  7
Got 128324 / 147232 with accuracy 87.16
Epoch:  7
Got 133943 / 153632 with accuracy 87.18
Epoch:  7
Got 139568 / 160032 with accuracy 87.21
Epoch:  7
Got 145157 / 166432 with accuracy 87.22
Epoch:  7
Got 150758 / 172832 with accuracy 87.23
Epoch:  7
Got 156329 / 179232 with accuracy 87.22
Epoch:  7
Got 161931 / 185632 with accuracy 87.23
Epoch:  7
Got 167566 / 192032 with accuracy 87.26
Epoch:  7
Got 173181 / 198432 with accuracy 87.27
Epoch:  7
Got 178789 / 204832 with accuracy 87.29
Epoch:  7
Got 184401 / 211232 with accuracy 87.30
Epoch:  7
Got 185672 / 212673 with accuracy 87.30
Checking accuracy on Test Data
<class 'torch.utils.data.dataloader.DataLoader'>
Got 11281 / 12510 with accuracy 90.18
Epoch:  8
Got 31 / 32 with accuracy 96.88
Epoch:  8
Got 5673 / 6432 with accuracy 88.20
Epoch:  8
Got 11315 / 12832 with accuracy 88.18
Epoch:  8
Got 16962 / 19232 with accuracy 88.20
Epoch:  8
Got 22577 / 25632 with accuracy 88.08
Epoch:  8
Got 28158 / 32032 with accuracy 87.91
Epoch:  8
Got 33739 / 38432 with accuracy 87.79
Epoch:  8
Got 39358 / 44832 with accuracy 87.79
Epoch:  8
Got 44948 / 51232 with accuracy 87.73
Epoch:  8
Got 50578 / 57632 with accuracy 87.76
Epoch:  8
Got 56184 / 64032 with accuracy 87.74
Epoch:  8
Got 61814 / 70432 with accuracy 87.76
Epoch:  8
Got 67458 / 76832 with accuracy 87.80
Epoch:  8
Got 73103 / 83232 with accuracy 87.83
Epoch:  8
Got 78774 / 89632 with accuracy 87.89
Epoch:  8
Got 84370 / 96032 with accuracy 87.86
Epoch:  8
Got 90040 / 102432 with accuracy 87.90
Epoch:  8
Got 95734 / 108832 with accuracy 87.96
Epoch:  8
Got 101358 / 115232 with accuracy 87.96
Epoch:  8
Got 107004 / 121632 with accuracy 87.97
Epoch:  8
Got 112631 / 128032 with accuracy 87.97
Epoch:  8
Got 118249 / 134432 with accuracy 87.96
Epoch:  8
Got 123896 / 140832 with accuracy 87.97
Epoch:  8
Got 129598 / 147232 with accuracy 88.02
Epoch:  8
Got 135300 / 153632 with accuracy 88.07
Epoch:  8
Got 140940 / 160032 with accuracy 88.07
Epoch:  8
Got 146582 / 166432 with accuracy 88.07
Epoch:  8
Got 152214 / 172832 with accuracy 88.07
Epoch:  8
Got 157887 / 179232 with accuracy 88.09
Epoch:  8
Got 163562 / 185632 with accuracy 88.11
Epoch:  8
Got 169232 / 192032 with accuracy 88.13
Epoch:  8
Got 174872 / 198432 with accuracy 88.13
Epoch:  8
Got 180574 / 204832 with accuracy 88.16
Epoch:  8
Got 186213 / 211232 with accuracy 88.16
Epoch:  8
Got 187486 / 212673 with accuracy 88.16
Checking accuracy on Test Data
<class 'torch.utils.data.dataloader.DataLoader'>
Got 11396 / 12510 with accuracy 91.10
