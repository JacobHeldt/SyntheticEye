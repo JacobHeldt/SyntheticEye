{
 "cells": [
  {
   "attachments": {},
   "cell_type": "markdown",
   "metadata": {},
   "source": [
    "## Imports"
   ]
  },
  {
   "cell_type": "code",
   "execution_count": 2,
   "metadata": {},
   "outputs": [],
   "source": [
    "# Pytorch specific imports\n",
    "import torch\n",
    "import torch.nn as nn\n",
    "import torch.optim as optim\n",
    "import torch.nn.functional as F\n",
    "from torch.utils.data import DataLoader, random_split, Dataset\n",
    "import torchvision.datasets as datasets\n",
    "import torchvision.transforms as transforms\n",
    "from albumentations.pytorch import ToTensorV2\n",
    "\n",
    "# Other imports\n",
    "import kaggle\n",
    "import albumentations as A # - This was installed via pip\n",
    "from PIL import Image\n",
    "import numpy as np\n",
    "import matplotlib.pyplot as plt\n",
    "from tensorboardX import SummaryWriter"
   ]
  },
  {
   "attachments": {},
   "cell_type": "markdown",
   "metadata": {},
   "source": [
    "## Setup Neural Networks"
   ]
  },
  {
   "cell_type": "code",
   "execution_count": 3,
   "metadata": {},
   "outputs": [],
   "source": [
    "# This ConvNet could be used instead of the \"ComplexCNN\". It has less layers, and likely can detect less features, but is also less likely to overfit and faster\n",
    "class CNN(nn.Module):\n",
    "    def __init__(self, num_classes=2, dropout_prob=0.5):\n",
    "        super(CNN, self).__init__()\n",
    "\n",
    "        # First convolutional layer\n",
    "        self.conv1 = nn.Conv2d(in_channels=3, out_channels=16, kernel_size=3, stride=1, padding=1)\n",
    "\n",
    "        # Second convolutional layer\n",
    "        self.conv2 = nn.Conv2d(in_channels=16, out_channels=32, kernel_size=3, stride=1, padding=1)\n",
    "\n",
    "        # Dropout layer after convolutional layers (optional)\n",
    "        self.dropout_conv = nn.Dropout(p=dropout_prob/2)  # Typically, dropout in convolutional layers is kept lower\n",
    "\n",
    "        # Fully connected layers\n",
    "        self.fc1 = nn.Linear(32 * 64 * 64, 64)  # After 2 max-pooling operations, the size becomes (28/2/2 = 7)\n",
    "\n",
    "        # Dropout layer for fully connected layers\n",
    "        self.dropout_fc = nn.Dropout(p=dropout_prob)\n",
    "\n",
    "        self.fc2 = nn.Linear(64, num_classes)\n",
    "\n",
    "    def forward(self, x):\n",
    "        # Conv layer 1 with ReLU activation followed by MaxPooling\n",
    "        x = F.relu(self.conv1(x))\n",
    "        x = F.max_pool2d(x, kernel_size=2)  # Reducing spatial dimensions by half\n",
    "        x = self.dropout_conv(x)  # Dropout after pooling (optional)\n",
    "\n",
    "        # Conv layer 2 with ReLU activation followed by MaxPooling\n",
    "        x = F.relu(self.conv2(x))\n",
    "        x = F.max_pool2d(x, kernel_size=2)  # Reducing spatial dimensions by half\n",
    "        x = self.dropout_conv(x)  # Dropout after pooling (optional)\n",
    "\n",
    "        # Flatten the output\n",
    "        x = x.view(x.size(0), -1)\n",
    "\n",
    "        # Fully connected layers\n",
    "        x = F.relu(self.fc1(x))\n",
    "        x = self.dropout_fc(x)  # Dropout after activation\n",
    "        x = self.fc2(x)\n",
    "\n",
    "        return x"
   ]
  },
  {
   "cell_type": "code",
   "execution_count": 4,
   "metadata": {},
   "outputs": [],
   "source": [
    "# This ConvNet is more complex with more layers than the \"standard\" ConvNet defined above\n",
    "class ComplexCNN(nn.Module):\n",
    "    def __init__(self, dropout_prob=0.5):\n",
    "        super(ComplexCNN, self).__init__()\n",
    "\n",
    "        # First convolutional layer\n",
    "        self.conv1 = nn.Conv2d(in_channels=3, out_channels=32, kernel_size=3, stride=1, padding=1)\n",
    "        self.bn1 = nn.BatchNorm2d(32)\n",
    "\n",
    "        # Second convolutional layer\n",
    "        self.conv2 = nn.Conv2d(in_channels=32, out_channels=64, kernel_size=3, stride=1, padding=1)\n",
    "        self.bn2 = nn.BatchNorm2d(64)\n",
    "\n",
    "        # Third convolutional layer\n",
    "        self.conv3 = nn.Conv2d(in_channels=64, out_channels=128, kernel_size=3, stride=1, padding=1)\n",
    "        self.bn3 = nn.BatchNorm2d(128)\n",
    "\n",
    "        # Dropout after convolutional layers\n",
    "        self.dropout_conv = nn.Dropout(p=dropout_prob/2)\n",
    "\n",
    "        # Fully connected layers\n",
    "        self.fc1 = nn.Linear(128 * 16 * 16, 256)\n",
    "        self.fc2 = nn.Linear(256, 128)\n",
    "        self.fc3 = nn.Linear(128, 1)  # Only one output node for binary classification\n",
    "\n",
    "        # Dropout for fully connected layers\n",
    "        self.dropout_fc = nn.Dropout(p=dropout_prob)\n",
    "\n",
    "    def forward(self, x):\n",
    "        # Conv layer 1\n",
    "        x = F.leaky_relu(self.bn1(self.conv1(x)))\n",
    "        x = F.max_pool2d(x, kernel_size=2)\n",
    "        x = self.dropout_conv(x)\n",
    "\n",
    "        # Conv layer 2\n",
    "        x = F.leaky_relu(self.bn2(self.conv2(x)))\n",
    "        x = F.max_pool2d(x, kernel_size=2)\n",
    "        x = self.dropout_conv(x)\n",
    "\n",
    "        # Conv layer 3\n",
    "        x = F.leaky_relu(self.bn3(self.conv3(x)))\n",
    "        x = F.max_pool2d(x, kernel_size=2)\n",
    "        x = self.dropout_conv(x)\n",
    "\n",
    "        # Flatten\n",
    "        x = x.view(x.size(0), -1)\n",
    "\n",
    "        # FC layers\n",
    "        x = F.leaky_relu(self.fc1(x))\n",
    "        x = self.dropout_fc(x)\n",
    "\n",
    "        x = F.leaky_relu(self.fc2(x))\n",
    "        x = self.dropout_fc(x)\n",
    "\n",
    "        x = self.fc3(x)\n",
    "\n",
    "        return x"
   ]
  },
  {
   "attachments": {},
   "cell_type": "markdown",
   "metadata": {},
   "source": [
    "## Set Up Device Agnostic Code"
   ]
  },
  {
   "cell_type": "code",
   "execution_count": 5,
   "metadata": {},
   "outputs": [],
   "source": [
    "device = torch.device('cuda' if torch.cuda.is_available() else 'cpu')"
   ]
  },
  {
   "attachments": {},
   "cell_type": "markdown",
   "metadata": {},
   "source": [
    "## Hyperparamters"
   ]
  },
  {
   "cell_type": "code",
   "execution_count": 6,
   "metadata": {},
   "outputs": [],
   "source": [
    "input_size = 784\n",
    "num_classes = 10\n",
    "learning_rate = 0.001\n",
    "batch_size = 64\n",
    "num_epochs = 12"
   ]
  },
  {
   "attachments": {},
   "cell_type": "markdown",
   "metadata": {},
   "source": [
    "## Data\n",
    "- Load Data\n",
    "- Split Data\n",
    "- Apply transformations"
   ]
  },
  {
   "cell_type": "code",
   "execution_count": 7,
   "metadata": {},
   "outputs": [],
   "source": [
    "# Converting the images to tensors without data augmentation\n",
    "transform = transforms.ToTensor()"
   ]
  },
  {
   "cell_type": "code",
   "execution_count": 8,
   "metadata": {},
   "outputs": [],
   "source": [
    "class AlbumentationsTransform:\n",
    "    def __init__(self, transform=None):\n",
    "        self.transform = transform\n",
    "\n",
    "    def __call__(self, image):\n",
    "        # Convert PIL image to numpy array\n",
    "        image_np = np.array(image)\n",
    "\n",
    "        # Apply transformations\n",
    "        augmented = self.transform(image=image_np)\n",
    "\n",
    "        # Convert numpy image back to PyTorch tensor, normalize and permute\n",
    "        image_tensor = torch.tensor(augmented['image'], dtype=torch.float32).permute(2, 0, 1) / 255.0\n",
    "\n",
    "        return image_tensor\n"
   ]
  },
  {
   "cell_type": "code",
   "execution_count": 9,
   "metadata": {},
   "outputs": [],
   "source": [
    "# Using data augmentation with the albumentations library\n",
    "augmentation = A.Compose([\n",
    "    A.Resize(128, 128),\n",
    "    A.RandomBrightnessContrast(p=0.3),\n",
    "    A.RandomGamma(p=0.3),\n",
    "    A.CLAHE(p=0.3),\n",
    "    A.HorizontalFlip(p=0.5),\n",
    "    A.ShiftScaleRotate(shift_limit=0.05, scale_limit=0.05, rotate_limit=15, p=0.5),\n",
    "    A.HueSaturationValue(hue_shift_limit=10, sat_shift_limit=20, val_shift_limit=10, p=0.3),\n",
    "    A.GaussNoise(p=0.1),\n",
    "    A.GaussianBlur(p=0.1),\n",
    "    A.OpticalDistortion(p=0.05),\n",
    "    A.GridDistortion(p=0.05),\n",
    "    # A.ToTensorV2()  # Convert the image to PyTorch tensor. It should be the last transform.\n",
    "])\n",
    "\n",
    "test_augmentation = A.Compose([\n",
    "    A.Resize(128, 128)\n",
    "])\n",
    "\n",
    "wrapped_augmentation = transforms.Compose([\n",
    "    AlbumentationsTransform(augmentation),\n",
    "    transforms.ToTensor()\n",
    "])\n",
    "\n",
    "wrapped_test_augmentation = transforms.Compose([\n",
    "    AlbumentationsTransform(test_augmentation),\n",
    "    transforms.ToTensor()\n",
    "])"
   ]
  },
  {
   "cell_type": "code",
   "execution_count": 10,
   "metadata": {},
   "outputs": [],
   "source": [
    "wrapped_augmentation = AlbumentationsTransform(augmentation)\n",
    "wrapped_test_augmentation = AlbumentationsTransform(test_augmentation)"
   ]
  },
  {
   "cell_type": "code",
   "execution_count": 18,
   "metadata": {},
   "outputs": [
    {
     "ename": "NameError",
     "evalue": "name 'ImageFolder' is not defined",
     "output_type": "error",
     "traceback": [
      "\u001b[1;31m---------------------------------------------------------------------------\u001b[0m",
      "\u001b[1;31mNameError\u001b[0m                                 Traceback (most recent call last)",
      "Cell \u001b[1;32mIn[18], line 1\u001b[0m\n\u001b[1;32m----> 1\u001b[0m \u001b[39mclass\u001b[39;00m \u001b[39mCustomDataset\u001b[39;00m(ImageFolder):\n\u001b[0;32m      2\u001b[0m     \u001b[39mdef\u001b[39;00m \u001b[39m__init__\u001b[39m(\u001b[39mself\u001b[39m, root, transforms\u001b[39m=\u001b[39m\u001b[39mNone\u001b[39;00m):\n\u001b[0;32m      3\u001b[0m         \u001b[39msuper\u001b[39m(CustomDataset, \u001b[39mself\u001b[39m)\u001b[39m.\u001b[39m\u001b[39m__init__\u001b[39m(root, transform\u001b[39m=\u001b[39m\u001b[39mNone\u001b[39;00m)  \u001b[39m# We won't use the base class's transform\u001b[39;00m\n",
      "\u001b[1;31mNameError\u001b[0m: name 'ImageFolder' is not defined"
     ]
    }
   ],
   "source": [
    "class CustomDataset(ImageFolder):\n",
    "    def __init__(self, root, transforms=None):\n",
    "        super(CustomDataset, self).__init__(root, transform=None)  # We won't use the base class's transform\n",
    "        self.augmentations = transforms\n",
    "\n",
    "    def __getitem__(self, index):\n",
    "        # Get an image and its label\n",
    "        path, target = self.samples[index]\n",
    "        image = Image.open(path).convert(\"RGB\")\n",
    "\n",
    "        # Apply albumentations\n",
    "        if self.augmentations:\n",
    "            image = self.augmentations(image=np.array(image))[\"image\"]\n",
    "        \n",
    "        # Convert image back to torch tensor\n",
    "        image = torch.from_numpy(image).permute(2, 0, 1)\n",
    "\n",
    "        return image, target"
   ]
  },
  {
   "cell_type": "code",
   "execution_count": 12,
   "metadata": {},
   "outputs": [
    {
     "ename": "NameError",
     "evalue": "name 'CustomDataset' is not defined",
     "output_type": "error",
     "traceback": [
      "\u001b[1;31m---------------------------------------------------------------------------\u001b[0m",
      "\u001b[1;31mNameError\u001b[0m                                 Traceback (most recent call last)",
      "Cell \u001b[1;32mIn[12], line 11\u001b[0m\n\u001b[0;32m      8\u001b[0m train_subset, test_subset \u001b[39m=\u001b[39m random_split(full_dataset, [train_size, test_size])\n\u001b[0;32m     10\u001b[0m \u001b[39m# Apply the transformations using the CustomDataset class\u001b[39;00m\n\u001b[1;32m---> 11\u001b[0m train_dataset \u001b[39m=\u001b[39m CustomDataset(train_subset, transform\u001b[39m=\u001b[39mwrapped_augmentation)\n\u001b[0;32m     12\u001b[0m test_dataset \u001b[39m=\u001b[39m CustomDataset(test_subset, transform\u001b[39m=\u001b[39mwrapped_test_augmentation)\n\u001b[0;32m     14\u001b[0m \u001b[39m# Create data loaders\u001b[39;00m\n",
      "\u001b[1;31mNameError\u001b[0m: name 'CustomDataset' is not defined"
     ]
    }
   ],
   "source": [
    "\n",
    "# Load the entire dataset without any transformations\n",
    "full_dataset = datasets.ImageFolder(root='/Users/jacob/OneDrive/Desktop/Aletheia/Dataset_1/')\n",
    "\n",
    "# Split the dataset into train and test\n",
    "train_size = int(0.8 * len(full_dataset))  # 80%\n",
    "test_size = len(full_dataset) - train_size\n",
    "\n",
    "train_subset, test_subset = random_split(full_dataset, [train_size, test_size])\n",
    "\n",
    "# Apply the transformations using the CustomDataset class\n",
    "train_dataset = CustomDataset(train_subset, transform=wrapped_augmentation)\n",
    "test_dataset = CustomDataset(test_subset, transform=wrapped_test_augmentation)\n",
    "\n",
    "# Create data loaders\n",
    "batch_size = 64  # Adjust as per your need\n",
    "\n",
    "train_loader = DataLoader(train_dataset, batch_size=batch_size, shuffle=True)\n",
    "test_loader = DataLoader(test_dataset, batch_size=batch_size, shuffle=False)"
   ]
  },
  {
   "attachments": {},
   "cell_type": "markdown",
   "metadata": {},
   "source": [
    "## Explore and Visualize Data"
   ]
  },
  {
   "cell_type": "code",
   "execution_count": 13,
   "metadata": {},
   "outputs": [
    {
     "ename": "NameError",
     "evalue": "name 'train_dataset' is not defined",
     "output_type": "error",
     "traceback": [
      "\u001b[1;31m---------------------------------------------------------------------------\u001b[0m",
      "\u001b[1;31mNameError\u001b[0m                                 Traceback (most recent call last)",
      "Cell \u001b[1;32mIn[13], line 1\u001b[0m\n\u001b[1;32m----> 1\u001b[0m sample_img, sample_label \u001b[39m=\u001b[39m train_dataset[\u001b[39m0\u001b[39m]\n\u001b[0;32m      2\u001b[0m \u001b[39mprint\u001b[39m(sample_img\u001b[39m.\u001b[39mshape)\n",
      "\u001b[1;31mNameError\u001b[0m: name 'train_dataset' is not defined"
     ]
    }
   ],
   "source": [
    "sample_img, sample_label = train_dataset[0]\n",
    "print(sample_img.shape)"
   ]
  },
  {
   "cell_type": "code",
   "execution_count": 14,
   "metadata": {},
   "outputs": [
    {
     "ename": "NameError",
     "evalue": "name 'train_dataset' is not defined",
     "output_type": "error",
     "traceback": [
      "\u001b[1;31m---------------------------------------------------------------------------\u001b[0m",
      "\u001b[1;31mNameError\u001b[0m                                 Traceback (most recent call last)",
      "Cell \u001b[1;32mIn[14], line 2\u001b[0m\n\u001b[0;32m      1\u001b[0m \u001b[39m# Get the first five images and their labels\u001b[39;00m\n\u001b[1;32m----> 2\u001b[0m images \u001b[39m=\u001b[39m [train_dataset[i][\u001b[39m0\u001b[39m] \u001b[39mfor\u001b[39;00m i \u001b[39min\u001b[39;00m \u001b[39mrange\u001b[39m(\u001b[39m5\u001b[39m)]\n\u001b[0;32m      3\u001b[0m labels \u001b[39m=\u001b[39m [train_dataset[i][\u001b[39m1\u001b[39m] \u001b[39mfor\u001b[39;00m i \u001b[39min\u001b[39;00m \u001b[39mrange\u001b[39m(\u001b[39m5\u001b[39m)]\n",
      "Cell \u001b[1;32mIn[14], line 2\u001b[0m, in \u001b[0;36m<listcomp>\u001b[1;34m(.0)\u001b[0m\n\u001b[0;32m      1\u001b[0m \u001b[39m# Get the first five images and their labels\u001b[39;00m\n\u001b[1;32m----> 2\u001b[0m images \u001b[39m=\u001b[39m [train_dataset[i][\u001b[39m0\u001b[39m] \u001b[39mfor\u001b[39;00m i \u001b[39min\u001b[39;00m \u001b[39mrange\u001b[39m(\u001b[39m5\u001b[39m)]\n\u001b[0;32m      3\u001b[0m labels \u001b[39m=\u001b[39m [train_dataset[i][\u001b[39m1\u001b[39m] \u001b[39mfor\u001b[39;00m i \u001b[39min\u001b[39;00m \u001b[39mrange\u001b[39m(\u001b[39m5\u001b[39m)]\n",
      "\u001b[1;31mNameError\u001b[0m: name 'train_dataset' is not defined"
     ]
    }
   ],
   "source": [
    "# Get the first five images and their labels\n",
    "images = [train_dataset[i][0] for i in range(5)]\n",
    "labels = [train_dataset[i][1] for i in range(5)]"
   ]
  },
  {
   "cell_type": "code",
   "execution_count": 15,
   "metadata": {},
   "outputs": [],
   "source": [
    "# Convert tensors to PIL Images for plotting\n",
    "to_pil = transforms.ToPILImage()"
   ]
  },
  {
   "cell_type": "code",
   "execution_count": 16,
   "metadata": {},
   "outputs": [
    {
     "ename": "NameError",
     "evalue": "name 'images' is not defined",
     "output_type": "error",
     "traceback": [
      "\u001b[1;31m---------------------------------------------------------------------------\u001b[0m",
      "\u001b[1;31mNameError\u001b[0m                                 Traceback (most recent call last)",
      "Cell \u001b[1;32mIn[16], line 4\u001b[0m\n\u001b[0;32m      1\u001b[0m \u001b[39m# Plotting\u001b[39;00m\n\u001b[0;32m      2\u001b[0m fig, axs \u001b[39m=\u001b[39m plt\u001b[39m.\u001b[39msubplots(\u001b[39m2\u001b[39m, \u001b[39m5\u001b[39m, figsize\u001b[39m=\u001b[39m(\u001b[39m15\u001b[39m, \u001b[39m5\u001b[39m))\n\u001b[1;32m----> 4\u001b[0m \u001b[39mfor\u001b[39;00m i, img \u001b[39min\u001b[39;00m \u001b[39menumerate\u001b[39m(images):\n\u001b[0;32m      5\u001b[0m     ax \u001b[39m=\u001b[39m axs[i \u001b[39m/\u001b[39m\u001b[39m/\u001b[39m \u001b[39m5\u001b[39m][i \u001b[39m%\u001b[39m \u001b[39m5\u001b[39m]\n\u001b[0;32m      6\u001b[0m     ax\u001b[39m.\u001b[39mimshow(to_pil(img))\n",
      "\u001b[1;31mNameError\u001b[0m: name 'images' is not defined"
     ]
    },
    {
     "data": {
      "image/png": "[encoded data removed]",
      "text/plain": [
       "<Figure size 1500x500 with 10 Axes>"
      ]
     },
     "metadata": {},
     "output_type": "display_data"
    }
   ],
   "source": [
    "# Plotting\n",
    "fig, axs = plt.subplots(2, 5, figsize=(15, 5))\n",
    "\n",
    "for i, img in enumerate(images):\n",
    "    ax = axs[i // 5][i % 5]\n",
    "    ax.imshow(to_pil(img))\n",
    "    ax.set_title(f\"Label: {labels[i]}\")\n",
    "    ax.axis('off')\n",
    "\n",
    "plt.tight_layout()\n",
    "plt.show()"
   ]
  },
  {
   "attachments": {},
   "cell_type": "markdown",
   "metadata": {},
   "source": [
    "## Training"
   ]
  },
  {
   "attachments": {},
   "cell_type": "markdown",
   "metadata": {},
   "source": [
    "### Prepare Training"
   ]
  },
  {
   "cell_type": "code",
   "execution_count": 261,
   "metadata": {},
   "outputs": [],
   "source": [
    "torch.manual_seed(42)\n",
    "model = ComplexCNN().to(device)"
   ]
  },
  {
   "cell_type": "code",
   "execution_count": 264,
   "metadata": {},
   "outputs": [],
   "source": [
    "criterion = nn.BCEWithLogitsLoss()\n",
    "optimizer = optim.Adam(model.parameters(), lr=learning_rate)"
   ]
  },
  {
   "cell_type": "code",
   "execution_count": 262,
   "metadata": {},
   "outputs": [],
   "source": [
    "writer = SummaryWriter(f'runs/MNIST/tryingout_tensorboard')\n",
    "step = 0"
   ]
  },
  {
   "attachments": {},
   "cell_type": "markdown",
   "metadata": {},
   "source": [
    "### Train Model"
   ]
  },
  {
   "cell_type": "code",
   "execution_count": 1,
   "metadata": {},
   "outputs": [
    {
     "ename": "NameError",
     "evalue": "name 'torch' is not defined",
     "output_type": "error",
     "traceback": [
      "\u001b[1;31m---------------------------------------------------------------------------\u001b[0m",
      "\u001b[1;31mNameError\u001b[0m                                 Traceback (most recent call last)",
      "Cell \u001b[1;32mIn[1], line 3\u001b[0m\n\u001b[0;32m      1\u001b[0m num_correct \u001b[39m=\u001b[39m \u001b[39m0\u001b[39m\n\u001b[0;32m      2\u001b[0m num_samples \u001b[39m=\u001b[39m \u001b[39m0\u001b[39m\n\u001b[1;32m----> 3\u001b[0m torch\u001b[39m.\u001b[39mmanual_seed(\u001b[39m46\u001b[39m)\n\u001b[0;32m      5\u001b[0m model \u001b[39m=\u001b[39m model\u001b[39m.\u001b[39mto(device\u001b[39m=\u001b[39mdevice)\n\u001b[0;32m      6\u001b[0m log_interval \u001b[39m=\u001b[39m \u001b[39m100\u001b[39m\n",
      "\u001b[1;31mNameError\u001b[0m: name 'torch' is not defined"
     ]
    }
   ],
   "source": [
    "num_correct = 0\n",
    "num_samples = 0\n",
    "torch.manual_seed(46)\n",
    "\n",
    "model = model.to(device=device)\n",
    "log_interval = 100\n",
    "\n",
    "for epoch in range(num_epochs):\n",
    "  model.train()\n",
    "  for batch_idx, (data, targets) in enumerate(train_loader):\n",
    "    # Move data and targets to the device\n",
    "    data = data.to(device=device)\n",
    "    targets = targets.to(device=device)\n",
    "\n",
    "    # Forward pass\n",
    "    scores = model(data)\n",
    "    scores = scores.squeeze(1)\n",
    "    loss = criterion(scores.view(-1), targets.float())\n",
    "    # print(loss.item())\n",
    "\n",
    "    # Backward pass\n",
    "    optimizer.zero_grad()\n",
    "    loss.backward()\n",
    "\n",
    "    # Gradient descent (or whatever optimizer you're using)\n",
    "    optimizer.step()\n",
    "\n",
    "    predictions = (torch.sigmoid(scores) > 0.5).float()\n",
    "    num_correct += (predictions == targets).sum().item()\n",
    "    num_samples += predictions.size(0)\n",
    "\n",
    "    accuracy = 100 * num_correct / num_samples\n",
    "\n",
    "    # Log the metrics to TensorBoard\n",
    "    if batch_idx % log_interval == 0:\n",
    "      writer.add_scalar('Training Loss', loss, epoch * len(train_loader) + batch_idx)\n",
    "      writer.add_scalar('Training Accuracy', accuracy, epoch * len(train_loader) + batch_idx)\n",
    "      print(\"Epoch: \", epoch)\n",
    "      print(f'Got {num_correct} / {num_samples} with accuracy {accuracy:.2f}')\n",
    "\n",
    "  print(\"~!!1!!!!!!Epoch: \", epoch)\n",
    "\n",
    "  print(f'!!!!!!!!!!Got {num_correct} / {num_samples} with accuracy {accuracy:.2f}')\n",
    "\n",
    "torch.save(model.state_dict(), f'/Users/jacob/OneDrive/Desktop/Aletheia/Version1_0/state_dicts/model_epoch_{epoch}_num_correct{num_correct}.pth')"
   ]
  },
  {
   "attachments": {},
   "cell_type": "markdown",
   "metadata": {},
   "source": [
    "## Testing the Model"
   ]
  },
  {
   "cell_type": "code",
   "execution_count": 270,
   "metadata": {},
   "outputs": [
    {
     "name": "stdout",
     "output_type": "stream",
     "text": [
      "<class 'torch.utils.data.dataloader.DataLoader'>\n",
      "Got 50179 / 54742 with accuracy 91.66\n"
     ]
    }
   ],
   "source": [
    "def check_accuracy(loader, model):\n",
    "    print(type(loader))\n",
    "    num_correct = 0\n",
    "    num_samples = 0\n",
    "    model.eval()\n",
    "\n",
    "    with torch.no_grad():\n",
    "        for x, y in loader:\n",
    "            x = x.to(device=device)\n",
    "            y = y.to(device=device)\n",
    "\n",
    "            scores = model(x)\n",
    "            predictions = (torch.sigmoid(scores) > 0.5).squeeze().long()\n",
    "            num_correct += (predictions == y).sum().item()\n",
    "            num_samples += predictions.size(0)\n",
    "            # print(f\"y shape: {y.shape}\")\n",
    "            # print(f\"y values: {y.unique()}\")\n",
    "            # print(f\"predictions shape: {predictions.shape}\")\n",
    "            # print(f\"predictions values: {predictions.unique()}\")\n",
    "\n",
    "        print(f'Got {num_correct} / {num_samples} with accuracy {float(num_correct)/float(num_samples)*100:.2f}')\n",
    "\n",
    "    model.train()\n",
    "\n",
    "# check_accuracy(train_loader, model)\n",
    "check_accuracy(test_loader, model)"
   ]
  }
 ],
 "metadata": {
  "kernelspec": {
   "display_name": "Python 3",
   "language": "python",
   "name": "python3"
  },
  "language_info": {
   "codemirror_mode": {
    "name": "ipython",
    "version": 3
   },
   "file_extension": ".py",
   "mimetype": "text/x-python",
   "name": "python",
   "nbconvert_exporter": "python",
   "pygments_lexer": "ipython3",
   "version": "3.11.4"
  },
  "orig_nbformat": 4
 },
 "nbformat": 4,
 "nbformat_minor": 2
}
