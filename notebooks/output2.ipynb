Epoch:  0
Got 28 / 32 with accuracy 87.50
Epoch:  0
Got 5698 / 6432 with accuracy 88.59
Epoch:  0
Got 11346 / 12832 with accuracy 88.42
Epoch:  0
Got 17001 / 19232 with accuracy 88.40
Epoch:  0
Got 22675 / 25632 with accuracy 88.46
Epoch:  0
Got 28335 / 32032 with accuracy 88.46
Epoch:  0
Got 34003 / 38432 with accuracy 88.48
Epoch:  0
Got 39667 / 44832 with accuracy 88.48
Epoch:  0
Got 45352 / 51232 with accuracy 88.52
Epoch:  0
Got 51066 / 57632 with accuracy 88.61
Epoch:  0
Got 56770 / 64032 with accuracy 88.66
Epoch:  0
Got 62475 / 70432 with accuracy 88.70
Epoch:  0
Got 68135 / 76832 with accuracy 88.68
Epoch:  0
Got 73855 / 83232 with accuracy 88.73
Epoch:  0
Got 79537 / 89632 with accuracy 88.74
Epoch:  0
Got 85165 / 96032 with accuracy 88.68
Epoch:  0
Got 90878 / 102432 with accuracy 88.72
Epoch:  0
Got 96580 / 108832 with accuracy 88.74
Epoch:  0
Got 102325 / 115232 with accuracy 88.80
Epoch:  0
Got 108043 / 121632 with accuracy 88.83
Epoch:  0
Got 113740 / 128032 with accuracy 88.84
Epoch:  0
Got 119419 / 134432 with accuracy 88.83
Epoch:  0
Got 125129 / 140832 with accuracy 88.85
Epoch:  0
Got 130856 / 147232 with accuracy 88.88
Epoch:  0
Got 136502 / 153632 with accuracy 88.85
Epoch:  0
Got 142182 / 160032 with accuracy 88.85
Epoch:  0
Got 147877 / 166432 with accuracy 88.85
Epoch:  0
Got 153600 / 172832 with accuracy 88.87
Epoch:  0
Got 159282 / 179232 with accuracy 88.87
Epoch:  0
Got 164977 / 185632 with accuracy 88.87
Epoch:  0
Got 170691 / 192032 with accuracy 88.89
Epoch:  0
Got 176355 / 198432 with accuracy 88.87
Epoch:  0
Got 182051 / 204832 with accuracy 88.88
Epoch:  0
Got 187740 / 211232 with accuracy 88.88
Epoch:  0
Got 189012 / 212673 with accuracy 88.87
Checking accuracy on Test Data
<class 'torch.utils.data.dataloader.DataLoader'>
Got 11543 / 12510 with accuracy 92.27
Epoch:  1
Got 30 / 32 with accuracy 93.75
Epoch:  1
Got 5752 / 6432 with accuracy 89.43
Epoch:  1
Got 11477 / 12832 with accuracy 89.44
Epoch:  1
Got 17200 / 19232 with accuracy 89.43
Epoch:  1
Got 22888 / 25632 with accuracy 89.29
Epoch:  1
Got 28551 / 32032 with accuracy 89.13
Epoch:  1
Got 34265 / 38432 with accuracy 89.16
Epoch:  1
Got 39996 / 44832 with accuracy 89.21
Epoch:  1
Got 45703 / 51232 with accuracy 89.21
Epoch:  1
Got 51466 / 57632 with accuracy 89.30
Epoch:  1
Got 57185 / 64032 with accuracy 89.31
Epoch:  1
Got 62888 / 70432 with accuracy 89.29
Epoch:  1
Got 68621 / 76832 with accuracy 89.31
Epoch:  1
Got 74363 / 83232 with accuracy 89.34
Epoch:  1
Got 80088 / 89632 with accuracy 89.35
Epoch:  1
Got 85845 / 96032 with accuracy 89.39
Epoch:  1
Got 91572 / 102432 with accuracy 89.40
Epoch:  1
Got 97321 / 108832 with accuracy 89.42
Epoch:  1
Got 103051 / 115232 with accuracy 89.43
Epoch:  1
Got 108775 / 121632 with accuracy 89.43
Epoch:  1
Got 114507 / 128032 with accuracy 89.44
Epoch:  1
Got 120246 / 134432 with accuracy 89.45
Epoch:  1
Got 126000 / 140832 with accuracy 89.47
Epoch:  1
Got 131701 / 147232 with accuracy 89.45
Epoch:  1
Got 137397 / 153632 with accuracy 89.43
Epoch:  1
Got 143133 / 160032 with accuracy 89.44
Epoch:  1
Got 148847 / 166432 with accuracy 89.43
Epoch:  1
Got 154620 / 172832 with accuracy 89.46
Epoch:  1
Got 160396 / 179232 with accuracy 89.49
Epoch:  1
Got 166198 / 185632 with accuracy 89.53
Epoch:  1
Got 171942 / 192032 with accuracy 89.54
Epoch:  1
Got 177662 / 198432 with accuracy 89.53
Epoch:  1
Got 183376 / 204832 with accuracy 89.53
Epoch:  1
Got 189119 / 211232 with accuracy 89.53
Epoch:  1
Got 190406 / 212673 with accuracy 89.53
Checking accuracy on Test Data
<class 'torch.utils.data.dataloader.DataLoader'>
Got 11565 / 12510 with accuracy 92.45
Epoch:  2
Got 26 / 32 with accuracy 81.25
Epoch:  2
Got 5774 / 6432 with accuracy 89.77
Epoch:  2
Got 11516 / 12832 with accuracy 89.74
Epoch:  2
Got 17322 / 19232 with accuracy 90.07
Epoch:  2
Got 23086 / 25632 with accuracy 90.07
Epoch:  2
Got 28851 / 32032 with accuracy 90.07
Epoch:  2
Got 34603 / 38432 with accuracy 90.04
Epoch:  2
Got 40342 / 44832 with accuracy 89.98
Epoch:  2
Got 46092 / 51232 with accuracy 89.97
Epoch:  2
Got 51880 / 57632 with accuracy 90.02
Epoch:  2
Got 57627 / 64032 with accuracy 90.00
Epoch:  2
Got 63348 / 70432 with accuracy 89.94
Epoch:  2
Got 69084 / 76832 with accuracy 89.92
Epoch:  2
Got 74842 / 83232 with accuracy 89.92
Epoch:  2
Got 80604 / 89632 with accuracy 89.93
Epoch:  2
Got 86352 / 96032 with accuracy 89.92
Epoch:  2
Got 92090 / 102432 with accuracy 89.90
Epoch:  2
Got 97843 / 108832 with accuracy 89.90
Epoch:  2
Got 103607 / 115232 with accuracy 89.91
Epoch:  2
Got 109398 / 121632 with accuracy 89.94
Epoch:  2
Got 115167 / 128032 with accuracy 89.95
Epoch:  2
Got 120926 / 134432 with accuracy 89.95
Epoch:  2
Got 126712 / 140832 with accuracy 89.97
Epoch:  2
Got 132531 / 147232 with accuracy 90.02
Epoch:  2
Got 138272 / 153632 with accuracy 90.00
Epoch:  2
Got 144045 / 160032 with accuracy 90.01
Epoch:  2
Got 149788 / 166432 with accuracy 90.00
Epoch:  2
Got 155523 / 172832 with accuracy 89.99
Epoch:  2
Got 161316 / 179232 with accuracy 90.00
Epoch:  2
Got 167062 / 185632 with accuracy 90.00
Epoch:  2
Got 172832 / 192032 with accuracy 90.00
Epoch:  2
Got 178580 / 198432 with accuracy 90.00
Epoch:  2
Got 184367 / 204832 with accuracy 90.01
Epoch:  2
Got 190123 / 211232 with accuracy 90.01
Epoch:  2
Got 191419 / 212673 with accuracy 90.01
Checking accuracy on Test Data
<class 'torch.utils.data.dataloader.DataLoader'>
Got 11595 / 12510 with accuracy 92.69
Epoch:  3
Got 26 / 32 with accuracy 81.25
Epoch:  3
Got 5846 / 6432 with accuracy 90.89
Epoch:  3
Got 11659 / 12832 with accuracy 90.86
Epoch:  3
Got 17452 / 19232 with accuracy 90.74
Epoch:  3
Got 23265 / 25632 with accuracy 90.77
Epoch:  3
Got 29116 / 32032 with accuracy 90.90
Epoch:  3
Got 34919 / 38432 with accuracy 90.86
Epoch:  3
Got 40736 / 44832 with accuracy 90.86
Epoch:  3
Got 46524 / 51232 with accuracy 90.81
Epoch:  3
Got 52249 / 57632 with accuracy 90.66
Epoch:  3
Got 58050 / 64032 with accuracy 90.66
Epoch:  3
Got 63823 / 70432 with accuracy 90.62
Epoch:  3
Got 69616 / 76832 with accuracy 90.61
Epoch:  3
Got 75441 / 83232 with accuracy 90.64
Epoch:  3
Got 81233 / 89632 with accuracy 90.63
Epoch:  3
Got 87011 / 96032 with accuracy 90.61
Epoch:  3
Got 92862 / 102432 with accuracy 90.66
Epoch:  3
Got 98644 / 108832 with accuracy 90.64
Epoch:  3
Got 104431 / 115232 with accuracy 90.63
Epoch:  3
Got 110255 / 121632 with accuracy 90.65
Epoch:  3
Got 116073 / 128032 with accuracy 90.66
Epoch:  3
Got 121841 / 134432 with accuracy 90.63
Epoch:  3
Got 127606 / 140832 with accuracy 90.61
Epoch:  3
Got 133381 / 147232 with accuracy 90.59
Epoch:  3
Got 139206 / 153632 with accuracy 90.61
Epoch:  3
Got 145019 / 160032 with accuracy 90.62
Epoch:  3
Got 150843 / 166432 with accuracy 90.63
Epoch:  3
Got 156658 / 172832 with accuracy 90.64
Epoch:  3
Got 162461 / 179232 with accuracy 90.64
Epoch:  3
Got 168266 / 185632 with accuracy 90.64
Epoch:  3
Got 174064 / 192032 with accuracy 90.64
Epoch:  3
Got 179845 / 198432 with accuracy 90.63
Epoch:  3
Got 185617 / 204832 with accuracy 90.62
Epoch:  3
Got 191428 / 211232 with accuracy 90.62
Epoch:  3
Got 192751 / 212673 with accuracy 90.63
Checking accuracy on Test Data
<class 'torch.utils.data.dataloader.DataLoader'>
Got 11640 / 12510 with accuracy 93.05
Epoch:  4
Got 28 / 32 with accuracy 87.50
Epoch:  4
Got 5822 / 6432 with accuracy 90.52
Epoch:  4
Got 11637 / 12832 with accuracy 90.69
Epoch:  4
Got 17431 / 19232 with accuracy 90.64
Epoch:  4
Got 23249 / 25632 with accuracy 90.70
Epoch:  4
Got 29100 / 32032 with accuracy 90.85
Epoch:  4
Got 34887 / 38432 with accuracy 90.78
Epoch:  4
Got 40720 / 44832 with accuracy 90.83
Epoch:  4
Got 46535 / 51232 with accuracy 90.83
Epoch:  4
Got 52346 / 57632 with accuracy 90.83
Epoch:  4
Got 58179 / 64032 with accuracy 90.86
Epoch:  4
Got 64036 / 70432 with accuracy 90.92
Epoch:  4
Got 69858 / 76832 with accuracy 90.92
Epoch:  4
Got 75681 / 83232 with accuracy 90.93
Epoch:  4
Got 81537 / 89632 with accuracy 90.97
Epoch:  4
Got 87348 / 96032 with accuracy 90.96
Epoch:  4
Got 93183 / 102432 with accuracy 90.97
Epoch:  4
Got 98974 / 108832 with accuracy 90.94
Epoch:  4
Got 104765 / 115232 with accuracy 90.92
Epoch:  4
Got 110568 / 121632 with accuracy 90.90
Epoch:  4
Got 116395 / 128032 with accuracy 90.91
Epoch:  4
Got 122213 / 134432 with accuracy 90.91
Epoch:  4
Got 128035 / 140832 with accuracy 90.91
Epoch:  4
Got 133884 / 147232 with accuracy 90.93
Epoch:  4
Got 139739 / 153632 with accuracy 90.96
Epoch:  4
Got 145594 / 160032 with accuracy 90.98
Epoch:  4
Got 151382 / 166432 with accuracy 90.96
Epoch:  4
Got 157204 / 172832 with accuracy 90.96
Epoch:  4
Got 163020 / 179232 with accuracy 90.95
Epoch:  4
Got 168887 / 185632 with accuracy 90.98
Epoch:  4
Got 174686 / 192032 with accuracy 90.97
Epoch:  4
Got 180509 / 198432 with accuracy 90.97
Epoch:  4
Got 186319 / 204832 with accuracy 90.96
Epoch:  4
Got 192160 / 211232 with accuracy 90.97
Epoch:  4
Got 193473 / 212673 with accuracy 90.97
Checking accuracy on Test Data
<class 'torch.utils.data.dataloader.DataLoader'>
Got 11695 / 12510 with accuracy 93.49
Epoch:  5
Got 30 / 32 with accuracy 93.75
Epoch:  5
Got 5823 / 6432 with accuracy 90.53
Epoch:  5
Got 11677 / 12832 with accuracy 91.00
Epoch:  5
Got 17526 / 19232 with accuracy 91.13
Epoch:  5
Got 23389 / 25632 with accuracy 91.25
Epoch:  5
Got 29247 / 32032 with accuracy 91.31
Epoch:  5
Got 35085 / 38432 with accuracy 91.29
Epoch:  5
Got 40983 / 44832 with accuracy 91.41
Epoch:  5
Got 46845 / 51232 with accuracy 91.44
Epoch:  5
Got 52677 / 57632 with accuracy 91.40
Epoch:  5
Got 58551 / 64032 with accuracy 91.44
Epoch:  5
Got 64385 / 70432 with accuracy 91.41
Epoch:  5
Got 70219 / 76832 with accuracy 91.39
Epoch:  5
Got 76080 / 83232 with accuracy 91.41
Epoch:  5
Got 81893 / 89632 with accuracy 91.37
Epoch:  5
Got 87733 / 96032 with accuracy 91.36
Epoch:  5
Got 93631 / 102432 with accuracy 91.41
Epoch:  5
Got 99468 / 108832 with accuracy 91.40
Epoch:  5
Got 105304 / 115232 with accuracy 91.38
Epoch:  5
Got 111138 / 121632 with accuracy 91.37
Epoch:  5
Got 116957 / 128032 with accuracy 91.35
Epoch:  5
Got 122803 / 134432 with accuracy 91.35
Epoch:  5
Got 128627 / 140832 with accuracy 91.33
Epoch:  5
Got 134511 / 147232 with accuracy 91.36
Epoch:  5
Got 140356 / 153632 with accuracy 91.36
Epoch:  5
Got 146205 / 160032 with accuracy 91.36
Epoch:  5
Got 152095 / 166432 with accuracy 91.39
Epoch:  5
Got 157952 / 172832 with accuracy 91.39
Epoch:  5
Got 163751 / 179232 with accuracy 91.36
Epoch:  5
Got 169555 / 185632 with accuracy 91.34
Epoch:  5
Got 175354 / 192032 with accuracy 91.31
Epoch:  5
Got 181234 / 198432 with accuracy 91.33
Epoch:  5
Got 187112 / 204832 with accuracy 91.35
Epoch:  5
Got 192937 / 211232 with accuracy 91.34
Epoch:  5
Got 194238 / 212673 with accuracy 91.33
Checking accuracy on Test Data
<class 'torch.utils.data.dataloader.DataLoader'>
Got 7282 / 12510 with accuracy 58.21
Epoch:  6
Got 25 / 32 with accuracy 78.12
Epoch:  6
Got 5647 / 6432 with accuracy 87.80
Epoch:  6
Got 11453 / 12832 with accuracy 89.25
Epoch:  6
Got 17266 / 19232 with accuracy 89.78
Epoch:  6
Got 23111 / 25632 with accuracy 90.16
Epoch:  6
Got 28969 / 32032 with accuracy 90.44
Epoch:  6
Got 34811 / 38432 with accuracy 90.58
Epoch:  6
Got 40633 / 44832 with accuracy 90.63
Epoch:  6
Got 46516 / 51232 with accuracy 90.79
Epoch:  6
Got 52362 / 57632 with accuracy 90.86
Epoch:  6
Got 58199 / 64032 with accuracy 90.89
Epoch:  6
Got 64087 / 70432 with accuracy 90.99
Epoch:  6
Got 69929 / 76832 with accuracy 91.02
Epoch:  6
Got 75808 / 83232 with accuracy 91.08
Epoch:  6
Got 81718 / 89632 with accuracy 91.17
Epoch:  6
Got 87539 / 96032 with accuracy 91.16
Epoch:  6
Got 93346 / 102432 with accuracy 91.13
Epoch:  6
Got 99222 / 108832 with accuracy 91.17
Epoch:  6
Got 105078 / 115232 with accuracy 91.19
Epoch:  6
Got 110919 / 121632 with accuracy 91.19
Epoch:  6
Got 116802 / 128032 with accuracy 91.23
Epoch:  6
Got 122705 / 134432 with accuracy 91.28
Epoch:  6
Got 128607 / 140832 with accuracy 91.32
Epoch:  6
Got 134459 / 147232 with accuracy 91.32
Epoch:  6
Got 140299 / 153632 with accuracy 91.32
Epoch:  6
Got 146191 / 160032 with accuracy 91.35
Epoch:  6
Got 151998 / 166432 with accuracy 91.33
Epoch:  6
Got 157881 / 172832 with accuracy 91.35
Epoch:  6
Got 163743 / 179232 with accuracy 91.36
Epoch:  6
Got 169609 / 185632 with accuracy 91.37
Epoch:  6
Got 175464 / 192032 with accuracy 91.37
Epoch:  6
Got 181374 / 198432 with accuracy 91.40
Epoch:  6
Got 187264 / 204832 with accuracy 91.42
Epoch:  6
Got 193133 / 211232 with accuracy 91.43
Epoch:  6
Got 194465 / 212673 with accuracy 91.44
Checking accuracy on Test Data
<class 'torch.utils.data.dataloader.DataLoader'>
Got 11718 / 12510 with accuracy 93.67
Epoch:  7
Got 31 / 32 with accuracy 96.88
Epoch:  7
Got 5921 / 6432 with accuracy 92.06
